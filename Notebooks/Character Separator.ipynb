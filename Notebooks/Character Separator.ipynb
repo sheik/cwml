{
 "cells": [
  {
   "cell_type": "code",
   "execution_count": null,
   "metadata": {},
   "outputs": [],
   "source": [
    "import statistics\n",
    "import tensorflow as tf\n",
    "import matplotlib.pyplot as plt\n",
    "import numpy as np\n",
    "\n",
    "def decode_audio(audio_binary):\n",
    "  audio, _ = tf.audio.decode_wav(audio_binary)\n",
    "  return tf.squeeze(audio, axis=-1)\n",
    "\n",
    "MAX_LENGTH = 150\n",
    "\n",
    "def get_spectrogram_tf(waveform):\n",
    "  # Padding for files with less than 256000 samples\n",
    "  #print(\"Len: {}\".format(tf.shape(waveform)))\n",
    "  zero_padding = tf.zeros([10000] - tf.shape(waveform), dtype=tf.float32)\n",
    "\n",
    "  # Concatenate audio with padding so that all audio clips will be of the \n",
    "  # same length\n",
    "  waveform = tf.cast(waveform, tf.float32)\n",
    "  #waveform = tf.concat([waveform, zero_padding], 0)\n",
    "\n",
    "  spectrogram = tf.signal.stft(\n",
    "      waveform, frame_length=255, frame_step=128)\n",
    "  print(spectrogram.shape)  \n",
    "\n",
    "  spectrogram = tf.abs(spectrogram)\n",
    "  maxes = get_max(spectrogram)\n",
    "    \n",
    "  # get the most common high power  \n",
    "  counts = tf.unique_with_counts(maxes)\n",
    "  max_power = counts[0][tf.math.argmax(counts[2])]\n",
    "  \n",
    "  # cast properly for the tf.slice command\n",
    "  max_power = tf.cast(max_power, tf.int32)\n",
    "\n",
    "  spectrogram = tf.slice(spectrogram, begin=[0, max_power], size=[-1, 1])\n",
    "\n",
    "  output_list = [tf.zeros([1]) for i in range(0, MAX_LENGTH)]\n",
    "  zero_padding = tf.zeros([MAX_LENGTH, 1])\n",
    "  for i in tf.range(spectrogram.shape[0]):\n",
    "    output_list[i] = (spectrogram[i])\n",
    "    \n",
    "  return tf.stack(output_list)\n",
    "\n",
    "import tensorflow as tf\n",
    "physical_devices = tf.config.experimental.list_physical_devices('GPU')\n",
    "for device in physical_devices:\n",
    "    tf.config.experimental.set_memory_growth(device, True)\n",
    "\n",
    "# TensorFlow compatible function for determining the peak frequency\n",
    "def get_max(spectrogram):\n",
    "    print(\"Shape: {}\".format(spectrogram.shape))\n",
    "    print(\"Shape: {}\".format(spectrogram[0].shape))\n",
    "\n",
    "    max_seq_len = spectrogram.shape[0]\n",
    "    maxes = tf.TensorArray(tf.int64, size=max_seq_len)\n",
    "    for i in tf.range(max_seq_len):\n",
    "        max_n = tf.math.argmax(tf.cast(spectrogram[i], tf.int64))\n",
    "        maxes = maxes.write(i, max_n)\n",
    "    return maxes.stack()\n",
    "\n",
    "audio_binary = tf.io.read_file(\"data/C.wav\")\n",
    "waveform = decode_audio(audio_binary)\n",
    "spectrogram = get_spectrogram_tf(waveform)\n",
    "_ = plt.pcolormesh(spectrogram.numpy().T)\n",
    "    "
   ]
  },
  {
   "cell_type": "code",
   "execution_count": null,
   "metadata": {},
   "outputs": [],
   "source": [
    "from scipy.io import wavfile\n",
    "data = wavfile.read(\"data/12wpm-0snr.wav\")\n",
    "print(len(data[1]) / 128.0)"
   ]
  },
  {
   "cell_type": "code",
   "execution_count": null,
   "metadata": {},
   "outputs": [],
   "source": [
    "output_data = []\n",
    "\n",
    "low_count = 0\n",
    "cursor = 0\n",
    "state = \"OUT_OF_LETTER\"\n",
    "i = 0\n",
    "for frame in spectrogram.numpy():\n",
    "    sample = frame[0]\n",
    "    if state == \"OUT_OF_LETTER\":\n",
    "        if sample > 5.0:\n",
    "            prev_state = state\n",
    "            state = \"IN_LETTER\"\n",
    "            print(state)\n",
    "            low_count = 0\n",
    "            output_data = []\n",
    "    elif state == \"IN_LETTER\":\n",
    "        chunk = data[1][cursor:cursor+128]\n",
    "        output_data = np.concatenate((output_data,chunk))\n",
    "        if sample < 5.0:\n",
    "            low_count += 1\n",
    "        else:\n",
    "            low_count = 0\n",
    "        \n",
    "        if low_count > 5:\n",
    "            prev_state = state\n",
    "            state = \"OUT_OF_LETTER\"\n",
    "            print(state)\n",
    "            output = np.array(output_data, dtype=np.int16)\n",
    "            wavfile.write(str(\"output-{:04d}.wav\".format(i)), 8000, output)\n",
    "            i += 1\n",
    "    \n",
    "    cursor += 128\n",
    "    "
   ]
  },
  {
   "cell_type": "code",
   "execution_count": null,
   "metadata": {},
   "outputs": [],
   "source": [
    "def SNR(cw, dB):\n",
    "    SNR_linear = 10.0**(dB/10.0)\n",
    "    power = cw.var()\n",
    "    if power == 0:\n",
    "        power = 0.1\n",
    "    noise_power = power/SNR_linear\n",
    "    noise = np.sqrt(noise_power)*np.random.normal(0,1,len(cw))\n",
    "    return noise + cw\n"
   ]
  },
  {
   "cell_type": "code",
   "execution_count": null,
   "metadata": {},
   "outputs": [],
   "source": [
    "sample_rate = 8000\n",
    "def generate_silence(time_units, wpm):\n",
    "    return np.zeros(int(time_units * sample_rate / wpm))\n"
   ]
  },
  {
   "cell_type": "code",
   "execution_count": null,
   "metadata": {},
   "outputs": [],
   "source": [
    "SNR(generate_silence(10, 5), -6)[0:100]"
   ]
  },
  {
   "cell_type": "code",
   "execution_count": null,
   "metadata": {},
   "outputs": [],
   "source": []
  }
 ],
 "metadata": {
  "kernelspec": {
   "display_name": "Python 3",
   "language": "python",
   "name": "python3"
  },
  "language_info": {
   "codemirror_mode": {
    "name": "ipython",
    "version": 3
   },
   "file_extension": ".py",
   "mimetype": "text/x-python",
   "name": "python",
   "nbconvert_exporter": "python",
   "pygments_lexer": "ipython3",
   "version": "3.8.5"
  }
 },
 "nbformat": 4,
 "nbformat_minor": 4
}
