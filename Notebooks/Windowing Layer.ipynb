{
 "cells": [
  {
   "cell_type": "markdown",
   "metadata": {},
   "source": [
    "The FFT provides you with amplitude and phase. The amplitude is encoded as the magnitude of the complex number (sqrt(x^2+y^2)) while the phase is encoded as the angle (atan2(y,x)). To have a strictly real result from the FFT, the incoming signal must have even symmetry (i.e. x[n]=conj(x[N-n])).\n",
    "\n",
    "If all you care about is intensity, the magnitude of the complex number is sufficient for analysis.\n",
    "https://stackoverflow.com/questions/10304532/why-does-fft-produce-complex-numbers-instead-of-real-numbers#:~:text=The%20FFT%20provides%20you%20with%20amplitude%20and%20phase.&text=Those%20complex%20numbers%20in%20the,or%20magnitude%20and%20a%20phase)."
   ]
  },
  {
   "cell_type": "code",
   "execution_count": 44,
   "metadata": {},
   "outputs": [],
   "source": [
    "import tensorflow as tf\n",
    "import numpy as np\n",
    "from IPython import display\n",
    "import matplotlib.pyplot as plt\n"
   ]
  },
  {
   "cell_type": "code",
   "execution_count": 45,
   "metadata": {},
   "outputs": [],
   "source": [
    "def decode_audio(audio_binary):\n",
    "  audio, _ = tf.audio.decode_wav(audio_binary)\n",
    "  return tf.squeeze(audio, axis=-1)\n"
   ]
  },
  {
   "cell_type": "code",
   "execution_count": 46,
   "metadata": {},
   "outputs": [
    {
     "data": {
      "text/plain": [
       "<matplotlib.collections.QuadMesh at 0x7f8b0c6b5bb0>"
      ]
     },
     "execution_count": 46,
     "metadata": {},
     "output_type": "execute_result"
    },
    {
     "data": {
      "image/png": "[encoded data removed]",
      "text/plain": [
       "<Figure size 432x288 with 1 Axes>"
      ]
     },
     "metadata": {
      "needs_background": "light"
     },
     "output_type": "display_data"
    }
   ],
   "source": [
    "audio_binary = tf.io.read_file(\"data/output-0334.wav\")\n",
    "waveform = decode_audio(audio_binary)\n",
    "spectrogram = tf.signal.stft(\n",
    "      waveform, frame_length=2048,frame_step=128)\n",
    "\n",
    "import statistics\n",
    "s = tf.abs(spectrogram)\n",
    "new = np.array([])\n",
    "max_n = 0\n",
    "maxes = []\n",
    "for frame in s:\n",
    "    maxes.append(tf.math.argmax(frame))\n",
    "    #print(tf.math.argmax(frame))\n",
    "    \n",
    "\n",
    "\n",
    "\n",
    "median_max = statistics.median(maxes)\n",
    "\n",
    "s = tf.slice(s,\n",
    "               begin=[0, median_max - 8],\n",
    "               size=[-1, 16])\n",
    "plt.pcolormesh(s.numpy().T)"
   ]
  },
  {
   "cell_type": "code",
   "execution_count": 47,
   "metadata": {},
   "outputs": [
    {
     "data": {
      "text/plain": [
       "<matplotlib.collections.QuadMesh at 0x7f8b3046dd90>"
      ]
     },
     "execution_count": 47,
     "metadata": {},
     "output_type": "execute_result"
    },
    {
     "data": {
      "image/png": "[encoded data removed]",
      "text/plain": [
       "<Figure size 432x288 with 1 Axes>"
      ]
     },
     "metadata": {
      "needs_background": "light"
     },
     "output_type": "display_data"
    }
   ],
   "source": [
    "audio_binary = tf.io.read_file(\"data/output-0334.wav\")\n",
    "waveform = decode_audio(audio_binary)\n",
    "spectrogram = tf.signal.stft(\n",
    "      waveform, frame_length=256,frame_step=128)\n",
    "\n",
    "plt.pcolormesh(tf.abs(spectrogram.numpy().T))"
   ]
  },
  {
   "cell_type": "code",
   "execution_count": null,
   "metadata": {},
   "outputs": [],
   "source": []
  },
  {
   "cell_type": "code",
   "execution_count": 48,
   "metadata": {},
   "outputs": [
    {
     "data": {
      "text/plain": [
       "<matplotlib.collections.QuadMesh at 0x7f8b300a89d0>"
      ]
     },
     "execution_count": 48,
     "metadata": {},
     "output_type": "execute_result"
    },
    {
     "data": {
      "image/png": "[encoded data removed]",
      "text/plain": [
       "<Figure size 432x288 with 1 Axes>"
      ]
     },
     "metadata": {
      "needs_background": "light"
     },
     "output_type": "display_data"
    }
   ],
   "source": [
    "audio_binary = tf.io.read_file(\"data/C.wav\")\n",
    "waveform = decode_audio(audio_binary)\n",
    "spectrogram = tf.signal.stft(\n",
    "      waveform, frame_length=256,frame_step=128)\n",
    "\n",
    "plt.pcolormesh(tf.abs(spectrogram.numpy().T))"
   ]
  },
  {
   "cell_type": "code",
   "execution_count": 49,
   "metadata": {},
   "outputs": [
    {
     "data": {
      "text/plain": [
       "<matplotlib.collections.QuadMesh at 0x7f8b303c6790>"
      ]
     },
     "execution_count": 49,
     "metadata": {},
     "output_type": "execute_result"
    },
    {
     "data": {
      "image/png": "[encoded data removed]",
      "text/plain": [
       "<Figure size 432x288 with 1 Axes>"
      ]
     },
     "metadata": {
      "needs_background": "light"
     },
     "output_type": "display_data"
    }
   ],
   "source": [
    "import statistics\n",
    "s = tf.abs(spectrogram)\n",
    "new = np.array([])\n",
    "max_n = 0\n",
    "maxes = []\n",
    "for frame in s:\n",
    "    maxes.append(tf.math.argmax(frame))\n",
    "    #print(tf.math.argmax(frame))\n",
    "    \n",
    "\n",
    "\n",
    "\n",
    "median_max = statistics.median(maxes)\n",
    "\n",
    "s = tf.slice(s, begin=[0, median_max - 8], size=[-1, 16])\n",
    "plt.pcolormesh(s.numpy().T)"
   ]
  },
  {
   "cell_type": "code",
   "execution_count": 50,
   "metadata": {},
   "outputs": [
    {
     "data": {
      "text/plain": [
       "0"
      ]
     },
     "execution_count": 50,
     "metadata": {},
     "output_type": "execute_result"
    }
   ],
   "source": [
    "max_n"
   ]
  },
  {
   "cell_type": "code",
   "execution_count": 110,
   "metadata": {},
   "outputs": [],
   "source": [
    "def get_spectrogram_tf(waveform):\n",
    "  # Padding for files with less than 256000 samples\n",
    "  #print(\"Len: {}\".format(tf.shape(waveform)))\n",
    "  zero_padding = tf.zeros([100000] - tf.shape(waveform), dtype=tf.float32)\n",
    "\n",
    "  # Concatenate audio with padding so that all audio clips will be of the \n",
    "  # same length\n",
    "  waveform = tf.cast(waveform, tf.float32)\n",
    "  equal_length = tf.concat([waveform, zero_padding], 0)\n",
    "\n",
    "  spectrogram = tf.signal.stft(\n",
    "      equal_length, frame_length=255, frame_step=128)\n",
    "  get_max(spectrogram)\n",
    "  spectrogram = tf.abs(spectrogram)\n",
    "  maxes = get_max(spectrogram)\n",
    "\n",
    "  # Remove any zeros from the \"maxes\"  \n",
    "  boolean_mask = tf.cast(maxes, dtype=tf.bool)              \n",
    "  no_zeros = tf.boolean_mask(maxes, boolean_mask, axis=0)\n",
    "  median_max = statistics.median(no_zeros)\n",
    "    \n",
    "  # cast properly for the tf.slice command\n",
    "  median_max = tf.cast(median_max, tf.int32)\n",
    "\n",
    "\n",
    "  #tf.print(\"median max: \", median_max)\n",
    "  #print(\"Median: {}\".format(median_max))\n",
    "  spectrogram = tf.slice(spectrogram, begin=[0, median_max - 8], size=[-1, 16])\n",
    "\n",
    "  return spectrogram\n",
    "\n"
   ]
  },
  {
   "cell_type": "code",
   "execution_count": 111,
   "metadata": {},
   "outputs": [
    {
     "data": {
      "image/png": "[encoded data removed]",
      "text/plain": [
       "<Figure size 432x288 with 1 Axes>"
      ]
     },
     "metadata": {
      "needs_background": "light"
     },
     "output_type": "display_data"
    }
   ],
   "source": [
    "import tensorflow as tf\n",
    "physical_devices = tf.config.experimental.list_physical_devices('GPU')\n",
    "for device in physical_devices:\n",
    "    tf.config.experimental.set_memory_growth(device, True)\n",
    "\n",
    "# TensorFlow compatible function for determining the peak frequency\n",
    "def get_max(spectrogram):  \n",
    "    max_seq_len = spectrogram.shape[1]\n",
    "    maxes = tf.TensorArray(tf.int64, size=max_seq_len)\n",
    "    for i in tf.range(max_seq_len):\n",
    "        max_n = tf.math.argmax(tf.cast(spectrogram[i], tf.int64))\n",
    "        maxes = maxes.write(i, max_n)\n",
    "    return maxes.stack()\n",
    "\n",
    "with tf.device('/GPU'):\n",
    "    audio_binary = tf.io.read_file(\"data/C.wav\")\n",
    "    waveform = decode_audio(audio_binary)\n",
    "    spectrogram = get_spectrogram_tf(waveform)\n",
    "    plt.xlim(0,60)\n",
    "    plt.pcolormesh(tf.abs(spectrogram.numpy().T))\n",
    "    "
   ]
  },
  {
   "cell_type": "code",
   "execution_count": 112,
   "metadata": {},
   "outputs": [
    {
     "data": {
      "text/plain": [
       "<matplotlib.collections.QuadMesh at 0x7f8ad956b460>"
      ]
     },
     "execution_count": 112,
     "metadata": {},
     "output_type": "execute_result"
    },
    {
     "data": {
      "image/png": "[encoded data removed]",
      "text/plain": [
       "<Figure size 432x288 with 1 Axes>"
      ]
     },
     "metadata": {
      "needs_background": "light"
     },
     "output_type": "display_data"
    }
   ],
   "source": [
    "    audio_binary = tf.io.read_file(\"data/output-0334.wav\")\n",
    "    waveform = decode_audio(audio_binary)\n",
    "    spectrogram = get_spectrogram_tf(waveform)\n",
    "    plt.xlim(0,60)\n",
    "    plt.pcolormesh(tf.abs(spectrogram.numpy().T))"
   ]
  },
  {
   "cell_type": "code",
   "execution_count": null,
   "metadata": {},
   "outputs": [],
   "source": []
  },
  {
   "cell_type": "code",
   "execution_count": null,
   "metadata": {},
   "outputs": [],
   "source": []
  }
 ],
 "metadata": {
  "kernelspec": {
   "display_name": "Python 3",
   "language": "python",
   "name": "python3"
  },
  "language_info": {
   "codemirror_mode": {
    "name": "ipython",
    "version": 3
   },
   "file_extension": ".py",
   "mimetype": "text/x-python",
   "name": "python",
   "nbconvert_exporter": "python",
   "pygments_lexer": "ipython3",
   "version": "3.8.5"
  }
 },
 "nbformat": 4,
 "nbformat_minor": 4
}
